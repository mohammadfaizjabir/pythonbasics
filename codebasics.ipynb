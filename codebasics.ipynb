{
 "cells": [
  {
   "cell_type": "code",
   "execution_count": 1,
   "metadata": {},
   "outputs": [
    {
     "data": {
      "text/plain": [
       "' Write a function pay_bill which will take a list of expenses, percent commission, and a special offer amount\\n\\n    If you don’t pass percent_comission it should be always 9.8%\\n\\n    The Last argument special_offer_amount is not a required argument, you don’t need to pass it. Make it an optional parameter.\\n\\n    If you want to give a special offer to the user, then you have to pass the third argument special_offer_amount. If the user makes the purchase greater than special_offer_amount, then give him an extra commission of 1.2%.\\n\\n    Calculate the final payable price of the bill and return it from the function '"
      ]
     },
     "execution_count": 1,
     "metadata": {},
     "output_type": "execute_result"
    }
   ],
   "source": [
    "\"\"\" Write a function pay_bill which will take a list of expenses, percent commission, and a special offer amount\n",
    "\n",
    "    If you don’t pass percent_comission it should be always 9.8%\n",
    "\n",
    "    The Last argument special_offer_amount is not a required argument, you don’t need to pass it. Make it an optional parameter.\n",
    "\n",
    "    If you want to give a special offer to the user, then you have to pass the third argument special_offer_amount. If the user makes the purchase greater than special_offer_amount, then give him an extra commission of 1.2%.\n",
    "\n",
    "    Calculate the final payable price of the bill and return it from the function \"\"\"\n"
   ]
  },
  {
   "cell_type": "code",
   "execution_count": 2,
   "metadata": {},
   "outputs": [
    {
     "name": "stdout",
     "output_type": "stream",
     "text": [
      "142.74\n",
      "197.64\n",
      "555.0\n"
     ]
    }
   ],
   "source": [
    "def pay_bill(list_of_expenses, percent_comission=None, special_offer_amount=None):\n",
    "    if percent_comission is None:\n",
    "        percent_comission = 9.8 / 100\n",
    "        \n",
    "    total_expense = sum(list_of_expenses)\n",
    "    \n",
    "    if special_offer_amount is not None and total_expense > special_offer_amount:\n",
    "        percent_comission += 1.2 / 100\n",
    "        \n",
    "    comission_amount = total_expense * percent_comission\n",
    "    final_price = total_expense + comission_amount\n",
    "    \n",
    "    return final_price\n",
    "\n",
    "# Testing\n",
    "print(pay_bill([10, 20, 100]))  # Should apply only 9.8% commission\n",
    "print(pay_bill([10, 20, 150], special_offer_amount=400))  # Should apply only 9.8% commission because 180 < 400\n",
    "print(pay_bill([200, 300], special_offer_amount=400))  # Should apply 9.8% + 1.2% commission because 500 > 400\n"
   ]
  },
  {
   "cell_type": "code",
   "execution_count": 3,
   "metadata": {},
   "outputs": [
    {
     "data": {
      "text/plain": [
       "'    you and your wife argued about expenses last night. You both want to know who is spending more in a month. Now you both go to the Little Yoda he is a good python programmer. He suggested that both of you add an entry in a dictionary next time you spend money. So that you can have a clear picture of your expenses and plan to reduce them. Both dictionaries are as below-\\n\\nYour expenses -\\n\\n    Clothes - 1100\\n    Shoes - 1000\\n    Watch - 900\\n    Mobile Recharge - 699\\n    Petrol - 1980\\n\\nYour Wife’s expenses -\\n\\n    Mobile Recharge - 799\\n    DTH recharge - 999\\n    Clothes - 2310\\n    Makeup - 3670\\n    Shoes - 999\\n\\n    Find out the total expenses for each of you.\\n    Find out who spending more\\n    Find out which thing you and your wife spending more\\n'"
      ]
     },
     "execution_count": 3,
     "metadata": {},
     "output_type": "execute_result"
    }
   ],
   "source": [
    "\"\"\"    you and your wife argued about expenses last night. You both want to know who is spending more in a month. Now you both go to the Little Yoda he is a good python programmer. He suggested that both of you add an entry in a dictionary next time you spend money. So that you can have a clear picture of your expenses and plan to reduce them. Both dictionaries are as below-\n",
    "\n",
    "Your expenses -\n",
    "\n",
    "    Clothes - 1100\n",
    "    Shoes - 1000\n",
    "    Watch - 900\n",
    "    Mobile Recharge - 699\n",
    "    Petrol - 1980\n",
    "\n",
    "Your Wife’s expenses -\n",
    "\n",
    "    Mobile Recharge - 799\n",
    "    DTH recharge - 999\n",
    "    Clothes - 2310\n",
    "    Makeup - 3670\n",
    "    Shoes - 999\n",
    "\n",
    "    Find out the total expenses for each of you.\n",
    "    Find out who spending more\n",
    "    Find out which thing you and your wife spending more\n",
    "\"\"\""
   ]
  },
  {
   "cell_type": "code",
   "execution_count": null,
   "metadata": {},
   "outputs": [
    {
     "name": "stdout",
     "output_type": "stream",
     "text": [
      "5679\n",
      "8777\n",
      "her\n",
      "Petrol 1980\n",
      "Makeup 3670\n"
     ]
    }
   ],
   "source": [
    "\n",
    "my_dict={'Clothes':1100,'Shoes' :1000,'Watch' : 900,'Mobile Recharge':  699,'Petrol':  1980}\n",
    "\n",
    "her_dict={'Mobile Recharge': 799,'DTH recharge': 999, 'Clothes' : 2310,'Makeup' : 3670,'Shoes' : 999}\n",
    "\n",
    "print(sum(my_dict.values()))\n",
    "print(sum(her_dict.values()))\n",
    "if sum(my_dict.values())>sum(her_dict.values()):\n",
    "    print(\"him\")\n",
    "else:\n",
    "    print(\"her\")\n",
    "for key,value in my_dict.items():\n",
    "    maxy =  max(my_dict.values())\n",
    "    if value == maxy : \n",
    "        print(key , value )\n",
    "\n",
    "for key,value in her_dict.items():\n",
    "    maxy =  max(her_dict.values())\n",
    "    if value == maxy : \n",
    "        print(key , value )\n",
    "        \n"
   ]
  },
  {
   "cell_type": "code",
   "execution_count": 38,
   "metadata": {},
   "outputs": [
    {
     "name": "stdout",
     "output_type": "stream",
     "text": [
      "5679\n",
      "8777\n",
      "Both spent the same.\n",
      "1980\n",
      "3670\n",
      "Petrol 1980\n",
      "Makeup 3670\n"
     ]
    }
   ],
   "source": [
    "def analyse_expense(myy,her):\n",
    "    mytotal=sum(myy.values())\n",
    "    hertotal=sum(her.values())\n",
    "    print(mytotal)\n",
    "    print(hertotal)\n",
    "    if mytotal > hertotal:\n",
    "        print(\"You spent more.\")\n",
    "    elif mytotal > hertotal:\n",
    "        print(\"She spent more.\")\n",
    "    else:\n",
    "        print(\"Both spent the same.\")\n",
    "        \n",
    "    mymax = max(myy.values())\n",
    "    hermax = max(her.values())\n",
    "    print(mymax)\n",
    "    print(hermax)\n",
    "    for key , value in myy.items():\n",
    "        if value == mymax:\n",
    "            print(key,value)\n",
    "    for key , value in her.items():\n",
    "        if value == hermax:\n",
    "            print(key,value)\n",
    "        \n",
    "               \n",
    "    \n",
    "    \n",
    "    \n",
    "myy={'Clothes':1100,'Shoes' :1000,'Watch' : 900,'Mobile Recharge':  699,'Petrol':  1980}\n",
    "\n",
    "her={'Mobile Recharge': 799,'DTH recharge': 999, 'Clothes' : 2310,'Makeup' : 3670,'Shoes' : 999}\n",
    "\n",
    "analyse_expense(myy,her)"
   ]
  },
  {
   "cell_type": "code",
   "execution_count": null,
   "metadata": {},
   "outputs": [],
   "source": []
  }
 ],
 "metadata": {
  "kernelspec": {
   "display_name": "Python 3",
   "language": "python",
   "name": "python3"
  },
  "language_info": {
   "codemirror_mode": {
    "name": "ipython",
    "version": 3
   },
   "file_extension": ".py",
   "mimetype": "text/x-python",
   "name": "python",
   "nbconvert_exporter": "python",
   "pygments_lexer": "ipython3",
   "version": "3.12.3"
  }
 },
 "nbformat": 4,
 "nbformat_minor": 2
}
